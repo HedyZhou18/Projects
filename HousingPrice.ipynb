{
 "cells": [
  {
   "cell_type": "code",
   "execution_count": 3,
   "metadata": {},
   "outputs": [
    {
     "name": "stderr",
     "output_type": "stream",
     "text": [
      "/usr/local/lib/python3.6/site-packages/sklearn/cross_validation.py:41: DeprecationWarning: This module was deprecated in version 0.18 in favor of the model_selection module into which all the refactored classes and functions are moved. Also note that the interface of the new CV iterators are different from that of this module. This module will be removed in 0.20.\n",
      "  \"This module will be removed in 0.20.\", DeprecationWarning)\n",
      "/usr/local/lib/python3.6/site-packages/sklearn/learning_curve.py:22: DeprecationWarning: This module was deprecated in version 0.18 in favor of the model_selection module into which all the functions are moved. This module will be removed in 0.20\n",
      "  DeprecationWarning)\n"
     ]
    }
   ],
   "source": [
    "import numpy as np\n",
    "import pandas as pd\n",
    "import visuals as vs\n",
    "from sklearn.cross_validation import ShuffleSplit"
   ]
  },
  {
   "cell_type": "code",
   "execution_count": 8,
   "metadata": {},
   "outputs": [
    {
     "name": "stdout",
     "output_type": "stream",
     "text": [
      "shape of dataset (489, 4)\n"
     ]
    }
   ],
   "source": [
    "data=pd.read_csv('housing.csv')\n",
    "print(\"shape of dataset {}\".format(data.shape))\n"
   ]
  },
  {
   "cell_type": "code",
   "execution_count": 9,
   "metadata": {},
   "outputs": [
    {
     "data": {
      "text/plain": [
       "Index(['RM', 'LSTAT', 'PTRATIO', 'MEDV'], dtype='object')"
      ]
     },
     "execution_count": 9,
     "metadata": {},
     "output_type": "execute_result"
    }
   ],
   "source": [
    "data.keys()\n"
   ]
  },
  {
   "cell_type": "code",
   "execution_count": 10,
   "metadata": {},
   "outputs": [
    {
     "data": {
      "text/html": [
       "<div>\n",
       "<style scoped>\n",
       "    .dataframe tbody tr th:only-of-type {\n",
       "        vertical-align: middle;\n",
       "    }\n",
       "\n",
       "    .dataframe tbody tr th {\n",
       "        vertical-align: top;\n",
       "    }\n",
       "\n",
       "    .dataframe thead th {\n",
       "        text-align: right;\n",
       "    }\n",
       "</style>\n",
       "<table border=\"1\" class=\"dataframe\">\n",
       "  <thead>\n",
       "    <tr style=\"text-align: right;\">\n",
       "      <th></th>\n",
       "      <th>RM</th>\n",
       "      <th>LSTAT</th>\n",
       "      <th>PTRATIO</th>\n",
       "      <th>MEDV</th>\n",
       "    </tr>\n",
       "  </thead>\n",
       "  <tbody>\n",
       "    <tr>\n",
       "      <th>0</th>\n",
       "      <td>6.575</td>\n",
       "      <td>4.98</td>\n",
       "      <td>15.3</td>\n",
       "      <td>504000.0</td>\n",
       "    </tr>\n",
       "    <tr>\n",
       "      <th>1</th>\n",
       "      <td>6.421</td>\n",
       "      <td>9.14</td>\n",
       "      <td>17.8</td>\n",
       "      <td>453600.0</td>\n",
       "    </tr>\n",
       "    <tr>\n",
       "      <th>2</th>\n",
       "      <td>7.185</td>\n",
       "      <td>4.03</td>\n",
       "      <td>17.8</td>\n",
       "      <td>728700.0</td>\n",
       "    </tr>\n",
       "    <tr>\n",
       "      <th>3</th>\n",
       "      <td>6.998</td>\n",
       "      <td>2.94</td>\n",
       "      <td>18.7</td>\n",
       "      <td>701400.0</td>\n",
       "    </tr>\n",
       "    <tr>\n",
       "      <th>4</th>\n",
       "      <td>7.147</td>\n",
       "      <td>5.33</td>\n",
       "      <td>18.7</td>\n",
       "      <td>760200.0</td>\n",
       "    </tr>\n",
       "  </tbody>\n",
       "</table>\n",
       "</div>"
      ],
      "text/plain": [
       "      RM  LSTAT  PTRATIO      MEDV\n",
       "0  6.575   4.98     15.3  504000.0\n",
       "1  6.421   9.14     17.8  453600.0\n",
       "2  7.185   4.03     17.8  728700.0\n",
       "3  6.998   2.94     18.7  701400.0\n",
       "4  7.147   5.33     18.7  760200.0"
      ]
     },
     "execution_count": 10,
     "metadata": {},
     "output_type": "execute_result"
    }
   ],
   "source": [
    "data.head()"
   ]
  },
  {
   "cell_type": "code",
   "execution_count": 11,
   "metadata": {},
   "outputs": [
    {
     "name": "stdout",
     "output_type": "stream",
     "text": [
      "<class 'pandas.core.frame.DataFrame'>\n",
      "RangeIndex: 489 entries, 0 to 488\n",
      "Data columns (total 4 columns):\n",
      "RM         489 non-null float64\n",
      "LSTAT      489 non-null float64\n",
      "PTRATIO    489 non-null float64\n",
      "MEDV       489 non-null float64\n",
      "dtypes: float64(4)\n",
      "memory usage: 15.4 KB\n"
     ]
    }
   ],
   "source": [
    "data.info()"
   ]
  },
  {
   "cell_type": "code",
   "execution_count": 12,
   "metadata": {},
   "outputs": [
    {
     "data": {
      "text/html": [
       "<div>\n",
       "<style scoped>\n",
       "    .dataframe tbody tr th:only-of-type {\n",
       "        vertical-align: middle;\n",
       "    }\n",
       "\n",
       "    .dataframe tbody tr th {\n",
       "        vertical-align: top;\n",
       "    }\n",
       "\n",
       "    .dataframe thead th {\n",
       "        text-align: right;\n",
       "    }\n",
       "</style>\n",
       "<table border=\"1\" class=\"dataframe\">\n",
       "  <thead>\n",
       "    <tr style=\"text-align: right;\">\n",
       "      <th></th>\n",
       "      <th>RM</th>\n",
       "      <th>LSTAT</th>\n",
       "      <th>PTRATIO</th>\n",
       "      <th>MEDV</th>\n",
       "    </tr>\n",
       "  </thead>\n",
       "  <tbody>\n",
       "    <tr>\n",
       "      <th>count</th>\n",
       "      <td>489.000000</td>\n",
       "      <td>489.000000</td>\n",
       "      <td>489.000000</td>\n",
       "      <td>4.890000e+02</td>\n",
       "    </tr>\n",
       "    <tr>\n",
       "      <th>mean</th>\n",
       "      <td>6.240288</td>\n",
       "      <td>12.939632</td>\n",
       "      <td>18.516564</td>\n",
       "      <td>4.543429e+05</td>\n",
       "    </tr>\n",
       "    <tr>\n",
       "      <th>std</th>\n",
       "      <td>0.643650</td>\n",
       "      <td>7.081990</td>\n",
       "      <td>2.111268</td>\n",
       "      <td>1.653403e+05</td>\n",
       "    </tr>\n",
       "    <tr>\n",
       "      <th>min</th>\n",
       "      <td>3.561000</td>\n",
       "      <td>1.980000</td>\n",
       "      <td>12.600000</td>\n",
       "      <td>1.050000e+05</td>\n",
       "    </tr>\n",
       "    <tr>\n",
       "      <th>25%</th>\n",
       "      <td>5.880000</td>\n",
       "      <td>7.370000</td>\n",
       "      <td>17.400000</td>\n",
       "      <td>3.507000e+05</td>\n",
       "    </tr>\n",
       "    <tr>\n",
       "      <th>50%</th>\n",
       "      <td>6.185000</td>\n",
       "      <td>11.690000</td>\n",
       "      <td>19.100000</td>\n",
       "      <td>4.389000e+05</td>\n",
       "    </tr>\n",
       "    <tr>\n",
       "      <th>75%</th>\n",
       "      <td>6.575000</td>\n",
       "      <td>17.120000</td>\n",
       "      <td>20.200000</td>\n",
       "      <td>5.187000e+05</td>\n",
       "    </tr>\n",
       "    <tr>\n",
       "      <th>max</th>\n",
       "      <td>8.398000</td>\n",
       "      <td>37.970000</td>\n",
       "      <td>22.000000</td>\n",
       "      <td>1.024800e+06</td>\n",
       "    </tr>\n",
       "  </tbody>\n",
       "</table>\n",
       "</div>"
      ],
      "text/plain": [
       "               RM       LSTAT     PTRATIO          MEDV\n",
       "count  489.000000  489.000000  489.000000  4.890000e+02\n",
       "mean     6.240288   12.939632   18.516564  4.543429e+05\n",
       "std      0.643650    7.081990    2.111268  1.653403e+05\n",
       "min      3.561000    1.980000   12.600000  1.050000e+05\n",
       "25%      5.880000    7.370000   17.400000  3.507000e+05\n",
       "50%      6.185000   11.690000   19.100000  4.389000e+05\n",
       "75%      6.575000   17.120000   20.200000  5.187000e+05\n",
       "max      8.398000   37.970000   22.000000  1.024800e+06"
      ]
     },
     "execution_count": 12,
     "metadata": {},
     "output_type": "execute_result"
    }
   ],
   "source": [
    "data.describe()\n"
   ]
  },
  {
   "cell_type": "code",
   "execution_count": 13,
   "metadata": {},
   "outputs": [],
   "source": [
    "from sklearn.metrics import r2_score\n",
    "def performance_metric(y_true, y_predict):\n",
    "    \"\"\" Calculates and returns the performance score between \n",
    "        true and predicted values based on the metric chosen. \"\"\"\n",
    "    \n",
    "    # TODO: Calculate the performance score between 'y_true' and 'y_predict'\n",
    "    score = r2_score(y_true, y_predict)\n",
    "    \n",
    "    # Return the score\n",
    "    return score"
   ]
  },
  {
   "cell_type": "code",
   "execution_count": 135,
   "metadata": {},
   "outputs": [],
   "source": [
    "price=data.MEDV\n",
    "features=data.drop('MEDV',axis=1)\n",
    "from sklearn.cross_validation import train_test_split\n",
    "X_train,X_test,y_train,y_test=train_test_split(features,price,test_size=0.2,random_state=33)"
   ]
  },
  {
   "cell_type": "code",
   "execution_count": 146,
   "metadata": {
    "scrolled": true
   },
   "outputs": [
    {
     "data": {
      "image/png": "[encoded data removed]",
      "text/plain": [
       "<Figure size 1440x576 with 3 Axes>"
      ]
     },
     "metadata": {},
     "output_type": "display_data"
    }
   ],
   "source": [
    "import matplotlib.pyplot as plt\n",
    "import sklearn.learning_curve as curves\n",
    "from sklearn.tree import DecisionTreeRegressor\n",
    "from sklearn.cross_validation import ShuffleSplit, train_test_split   \n",
    "\n",
    "cv = ShuffleSplit(features.shape[0], n_iter = 10, test_size = 0.2, random_state = 0)\n",
    "\n",
    "    # Generate the training set sizes increasing by 50\n",
    "train_sizes = np.rint(np.linspace(1, features.shape[0]*0.8 - 1, 9)).astype(int)\n",
    "fig = plt.figure(figsize=(20,8))\n",
    "# Create three different models based on max_depth\n",
    "for k, depth in enumerate([1,3,6]):\n",
    "        \n",
    "        # Create a Decision tree regressor at max_depth = depth\n",
    "    regressor = DecisionTreeRegressor(max_depth = depth)\n",
    "\n",
    "        # Calculate the training and testing scores\n",
    "    sizes, train_scores, test_scores = curves.learning_curve(regressor, features, price, \\\n",
    "            cv = cv, train_sizes = train_sizes, scoring = 'r2')\n",
    "        \n",
    "        # Find the mean and standard deviation for smoothing\n",
    "    train_std = np.std(train_scores, axis = 1)\n",
    "    train_mean = np.mean(train_scores, axis = 1)\n",
    "    test_std = np.std(test_scores, axis = 1)\n",
    "    test_mean = np.mean(test_scores, axis = 1)\n",
    "\n",
    "        # Subplot the learning curve \n",
    "    ax = fig.add_subplot(1, 3, k+1)\n",
    "    ax.plot(sizes, train_mean, 'o-', color = 'r', label = 'Training Score')\n",
    "    ax.plot(sizes, test_mean, 'o-', color = 'g', label = 'Testing Score')\n",
    "    ax.fill_between(sizes, train_mean - train_std, \\\n",
    "        train_mean + train_std, alpha = 0.15, color = 'r')\n",
    "    ax.fill_between(sizes, test_mean - test_std, \\\n",
    "        test_mean + test_std, alpha = 0.15, color = 'g')\n",
    "        \n",
    "        # Labels\n",
    "    ax.set_title('max_depth = %s'%(depth),fontsize=10)\n",
    "    ax.set_xlabel('Number of Training Points',fontsize=10)\n",
    "    ax.set_ylabel('Score',fontsize=10)\n",
    "    ax.set_xlim([0, features.shape[0]*0.8])\n",
    "    ax.set_ylim([-0.05, 1.05])\n",
    "    \n",
    "    # Visual aesthetics\n",
    "ax.legend(bbox_to_anchor=(1.05, 2.05), loc='lower left', borderaxespad = 0.)\n",
    "fig.suptitle('Decision Tree Regressor Learning Performances', fontsize = 10, y = 1.03)\n",
    "plt.savefig(\"depth.png\")\n",
    "fig.tight_layout()\n",
    "fig.show()  \n",
    "        "
   ]
  },
  {
   "cell_type": "code",
   "execution_count": 149,
   "metadata": {
    "scrolled": true
   },
   "outputs": [
    {
     "data": {
      "image/png": "[encoded data removed]",
      "text/plain": [
       "<Figure size 720x432 with 1 Axes>"
      ]
     },
     "metadata": {},
     "output_type": "display_data"
    }
   ],
   "source": [
    "    # Create 10 cross-validation sets for training and testing\n",
    "    cv = ShuffleSplit(features.shape[0], n_iter = 10, test_size = 0.2, random_state = 0)\n",
    "\n",
    "    # Vary the max_depth parameter from 1 to 10\n",
    "    max_depth = np.arange(1,11)\n",
    "\n",
    "    # Calculate the training and testing scores\n",
    "    train_scores, test_scores = curves.validation_curve(DecisionTreeRegressor(), features, price, \\\n",
    "        param_name = \"max_depth\", param_range = max_depth, cv = cv, scoring = 'r2')\n",
    "\n",
    "    # Find the mean and standard deviation for smoothing\n",
    "    train_mean = np.mean(train_scores, axis=1)\n",
    "    train_std = np.std(train_scores, axis=1)\n",
    "    test_mean = np.mean(test_scores, axis=1)\n",
    "    test_std = np.std(test_scores, axis=1)\n",
    "\n",
    "    # Plot the validation curve\n",
    "    plt.figure(figsize=(10, 6))\n",
    "    plt.title('Decision Tree Regressor Complexity Performance')\n",
    "    plt.plot(max_depth, train_mean, 'o-', color = 'r', label = 'Training Score')\n",
    "    plt.plot(max_depth, test_mean, 'o-', color = 'g', label = 'Validation Score')\n",
    "    plt.fill_between(max_depth, train_mean - train_std, \\\n",
    "        train_mean + train_std, alpha = 0.15, color = 'r')\n",
    "    plt.fill_between(max_depth, test_mean - test_std, \\\n",
    "        test_mean + test_std, alpha = 0.15, color = 'g')\n",
    "    \n",
    "    # Visual aesthetics\n",
    "    plt.legend(loc = 'lower right')\n",
    "    plt.xlabel('Maximum Depth')\n",
    "    plt.ylabel('Score')\n",
    "    plt.ylim([-0.05,1.05])\n",
    "    plt.savefig(\"TV.png\")\n",
    "    plt.show()\n",
    "\n"
   ]
  },
  {
   "cell_type": "code",
   "execution_count": 75,
   "metadata": {},
   "outputs": [],
   "source": [
    "from sklearn.grid_search import GridSearchCV\n",
    "from sklearn.metrics import make_scorer\n",
    "\n",
    "def fit_model(X, y):\n",
    "    \"\"\" Performs grid search over the 'max_depth' parameter for a \n",
    "        decision tree regressor trained on the input data [X, y]. \"\"\"\n",
    "    \n",
    "    # Create cross-validation sets from the training data\n",
    "    cv_sets = ShuffleSplit(X.shape[0], n_iter = 10, test_size = 0.20, random_state = 0)\n",
    "\n",
    "    # TODO: Create a decision tree regressor object\n",
    "    regressor = DecisionTreeRegressor()\n",
    "\n",
    "    # TODO: Create a dictionary for the parameter 'max_depth' with a range from 1 to 10\n",
    "    params = {'max_depth':np.arange(1,11)} # last value in range is exclusive\n",
    "\n",
    "    # TODO: Transform 'performance_metric' into a scoring function using 'make_scorer' \n",
    "    scoring_fnc = make_scorer(performance_metric)\n",
    "\n",
    "    # TODO: Create the grid search object\n",
    "    grid = GridSearchCV(regressor, param_grid=params, scoring=scoring_fnc, cv=cv_sets)\n",
    "\n",
    "    # Fit the grid search object to the data to compute the optimal model\n",
    "    grid = grid.fit(X, y)\n",
    "\n",
    "    # Return the optimal model after fitting the data\n",
    "    return grid.best_estimator_"
   ]
  },
  {
   "cell_type": "code",
   "execution_count": 76,
   "metadata": {},
   "outputs": [
    {
     "name": "stdout",
     "output_type": "stream",
     "text": [
      "Parameter 'max_depth' is 5 for the optimal model.\n"
     ]
    }
   ],
   "source": [
    "# Fit the training data to the model using grid search\n",
    "reg = fit_model(X_train, y_train)\n",
    "\n",
    "# Produce the value for 'max_depth'\n",
    "print(\"Parameter 'max_depth' is {} for the optimal model.\".format(reg.get_params()['max_depth']))"
   ]
  },
  {
   "cell_type": "code",
   "execution_count": 62,
   "metadata": {},
   "outputs": [
    {
     "data": {
      "text/plain": [
       "0.6579770142221746"
      ]
     },
     "execution_count": 62,
     "metadata": {},
     "output_type": "execute_result"
    }
   ],
   "source": [
    "r2_score(reg.predict(X_test),y_test)"
   ]
  },
  {
   "cell_type": "code",
   "execution_count": 77,
   "metadata": {},
   "outputs": [
    {
     "name": "stdout",
     "output_type": "stream",
     "text": [
      "Predicted selling price for Client 1's home: $418,377.27\n",
      "Predicted selling price for Client 2's home: $218,540.00\n",
      "Predicted selling price for Client 3's home: $854,700.00\n"
     ]
    }
   ],
   "source": [
    "\n",
    "# Produce a matrix for client data\n",
    "client_data = [[5, 17, 15], # Client 1\n",
    "               [4, 32, 22], # Client 2\n",
    "               [8, 3, 12]]  # Client 3\n",
    "\n",
    "# Show predictions\n",
    "for i, price in enumerate(reg.predict(client_data)):\n",
    "    print (\"Predicted selling price for Client {}'s home: ${:,.2f}\".format(i+1, price))"
   ]
  },
  {
   "cell_type": "code",
   "execution_count": 100,
   "metadata": {},
   "outputs": [],
   "source": [
    "client_data1=[[5,17,15]]"
   ]
  },
  {
   "cell_type": "code",
   "execution_count": 104,
   "metadata": {},
   "outputs": [
    {
     "name": "stdout",
     "output_type": "stream",
     "text": [
      "1 [391183.33333333]\n",
      "2 [419700.]\n",
      "3 [415800.]\n",
      "4 [420622.22222222]\n",
      "5 [418377.27272727]\n",
      "6 [411931.57894737]\n",
      "7 [399663.15789474]\n",
      "8 [407232.]\n",
      "9 [351577.6119403]\n",
      "10 [413700.]\n",
      "\n",
      "Range in prices:  [69044.61028192]\n"
     ]
    }
   ],
   "source": [
    "    prices = []\n",
    "\n",
    "    for k in range(10):\n",
    "        # Split the data\n",
    "        X_train, X_test, y_train, y_test = train_test_split(features, price, \\\n",
    "            test_size = 0.2, random_state = k)\n",
    "        \n",
    "        # Fit the data\n",
    "        reg = fit_model(X_train, y_train)\n",
    "        \n",
    "        # Make a prediction\n",
    "        pred = reg.predict(client_data1)\n",
    "        prices.append(pred)\n",
    "        \n",
    "        # Result\n",
    "        #print(\"Trial {}: ${:,.2f}\".format(k+1, pred))\n",
    "        print(k+1,pred)\n",
    "\n",
    "    # Display price range\n",
    "    print(\"\\nRange in prices: \",max(prices) - min(prices))\n",
    "\n",
    "    #print(max(prices) - min(prices))"
   ]
  },
  {
   "cell_type": "code",
   "execution_count": 89,
   "metadata": {},
   "outputs": [
    {
     "data": {
      "image/png": "[encoded data removed]",
      "text/plain": [
       "<Figure size 432x288 with 1 Axes>"
      ]
     },
     "metadata": {},
     "output_type": "display_data"
    }
   ],
   "source": [
    "#-----\n",
    "from sklearn import cluster\n",
    "#y_reduced=df.poi\n",
    "\n",
    "km2=cluster.KMeans(n_clusters=2).fit(features)\n",
    "km3=cluster.KMeans(n_clusters=3).fit(features)\n",
    "km4=cluster.KMeans(n_clusters=4).fit(features)\n",
    "\n",
    "from scipy.spatial.distance import cdist\n",
    "from sklearn import metrics\n",
    "meandistortions=[]\n",
    "K=range(1,10)\n",
    "for k in K:\n",
    "#    cluster.KMeans.fit(my_dataset2)\n",
    "    kmeans=cluster.KMeans(n_clusters=k,random_state=0).fit(features)\n",
    "    meandistortions.append(sum(np.min(cdist(features, kmeans.cluster_centers_, 'euclidean'), axis=1)) / features.shape[0])\n",
    "plt.plot(K,meandistortions,'bx-')\n",
    "plt.xlabel('k')\n",
    "plt.ylabel('meandistortions')\n",
    "plt.title('select k with Elbow method')\n",
    "plt.savefig('K_Elbow.pdf')\n",
    "plt.savefig('k_Elbow.png')\n",
    "plt.show()"
   ]
  },
  {
   "cell_type": "code",
   "execution_count": 150,
   "metadata": {},
   "outputs": [
    {
     "data": {
      "image/png": "[encoded data removed]",
      "text/plain": [
       "<Figure size 432x288 with 1 Axes>"
      ]
     },
     "metadata": {},
     "output_type": "display_data"
    }
   ],
   "source": [
    "import seaborn as sns\n",
    "ax=sns.kdeplot(price , color='g',shade=True, label='prices')\n",
    "plt.title(\"Prices Distribution\")\n",
    "plt.xlabel(\"Range\", fontsize = 10)\n",
    "plt.ylabel('Frequency', fontsize = 10)\n",
    "plt.savefig(\"price.png\")"
   ]
  },
  {
   "cell_type": "code",
   "execution_count": 112,
   "metadata": {},
   "outputs": [
    {
     "data": {
      "text/plain": [
       "array([[ 5.89512941, 20.84358824, 19.57705882],\n",
       "       [ 6.42422884,  8.72749216, 17.95141066]])"
      ]
     },
     "execution_count": 112,
     "metadata": {},
     "output_type": "execute_result"
    }
   ],
   "source": [
    "from sklearn import cluster\n",
    "km2=cluster.KMeans(n_clusters=2).fit(features)\n",
    "c=km2.labels_\n",
    "type(c)\n",
    "#c\n",
    "km2.cluster_centers_"
   ]
  },
  {
   "cell_type": "code",
   "execution_count": 121,
   "metadata": {},
   "outputs": [
    {
     "data": {
      "text/plain": [
       "Index(['RM', 'LSTAT', 'PTRATIO', 'MEDV', 'label', 'prices'], dtype='object')"
      ]
     },
     "execution_count": 121,
     "metadata": {},
     "output_type": "execute_result"
    }
   ],
   "source": [
    "new_data=data.copy()\n",
    "new_data['label']=km2.labels_\n",
    "new_data['prices']=price\n",
    "new_data.shape\n",
    "new_data.keys()"
   ]
  },
  {
   "cell_type": "code",
   "execution_count": 151,
   "metadata": {},
   "outputs": [
    {
     "data": {
      "image/png": "[encoded data removed]",
      "text/plain": [
       "<Figure size 432x288 with 1 Axes>"
      ]
     },
     "metadata": {},
     "output_type": "display_data"
    }
   ],
   "source": [
    "#plt.subplot(211)\n",
    "\n",
    "ax=sns.kdeplot(new_data.loc[new_data.label==0,'prices'] , color='r',shade=True, label='prices')\n",
    "plt.title(\"Prices Distribution \")\n",
    "plt.xlabel(\"Range\", fontsize = 10)\n",
    "plt.ylabel('Frequency', fontsize = 10)\n",
    "plt.savefig('price0.png')\n",
    "\n",
    "\n",
    "\n",
    "\n"
   ]
  },
  {
   "cell_type": "code",
   "execution_count": 152,
   "metadata": {
    "scrolled": true
   },
   "outputs": [
    {
     "data": {
      "image/png": "[encoded data removed]",
      "text/plain": [
       "<Figure size 432x288 with 1 Axes>"
      ]
     },
     "metadata": {},
     "output_type": "display_data"
    }
   ],
   "source": [
    "#plt.subplot(212)\n",
    "ax=sns.kdeplot(new_data.loc[new_data.label==1,'prices'] , color='b',shade=True, label='prices')\n",
    "plt.title(\"Prices Distribution\")\n",
    "plt.xlabel(\"Range\", fontsize = 10)\n",
    "plt.ylabel('Frequency', fontsize = 10)\n",
    "plt.savefig('price1.png')"
   ]
  },
  {
   "cell_type": "code",
   "execution_count": 131,
   "metadata": {},
   "outputs": [
    {
     "data": {
      "text/html": [
       "<div>\n",
       "<style scoped>\n",
       "    .dataframe tbody tr th:only-of-type {\n",
       "        vertical-align: middle;\n",
       "    }\n",
       "\n",
       "    .dataframe tbody tr th {\n",
       "        vertical-align: top;\n",
       "    }\n",
       "\n",
       "    .dataframe thead th {\n",
       "        text-align: right;\n",
       "    }\n",
       "</style>\n",
       "<table border=\"1\" class=\"dataframe\">\n",
       "  <thead>\n",
       "    <tr style=\"text-align: right;\">\n",
       "      <th></th>\n",
       "      <th>RM</th>\n",
       "      <th>LSTAT</th>\n",
       "      <th>PTRATIO</th>\n",
       "      <th>MEDV</th>\n",
       "      <th>label</th>\n",
       "      <th>prices</th>\n",
       "    </tr>\n",
       "  </thead>\n",
       "  <tbody>\n",
       "    <tr>\n",
       "      <th>count</th>\n",
       "      <td>170.000000</td>\n",
       "      <td>170.000000</td>\n",
       "      <td>170.000000</td>\n",
       "      <td>170.000000</td>\n",
       "      <td>170.0</td>\n",
       "      <td>170.000000</td>\n",
       "    </tr>\n",
       "    <tr>\n",
       "      <th>mean</th>\n",
       "      <td>5.895129</td>\n",
       "      <td>20.843588</td>\n",
       "      <td>19.577059</td>\n",
       "      <td>311430.000000</td>\n",
       "      <td>0.0</td>\n",
       "      <td>311430.000000</td>\n",
       "    </tr>\n",
       "    <tr>\n",
       "      <th>std</th>\n",
       "      <td>0.538569</td>\n",
       "      <td>5.295011</td>\n",
       "      <td>1.710498</td>\n",
       "      <td>91604.942149</td>\n",
       "      <td>0.0</td>\n",
       "      <td>91604.942149</td>\n",
       "    </tr>\n",
       "    <tr>\n",
       "      <th>min</th>\n",
       "      <td>4.138000</td>\n",
       "      <td>14.590000</td>\n",
       "      <td>14.700000</td>\n",
       "      <td>105000.000000</td>\n",
       "      <td>0.0</td>\n",
       "      <td>105000.000000</td>\n",
       "    </tr>\n",
       "    <tr>\n",
       "      <th>25%</th>\n",
       "      <td>5.607000</td>\n",
       "      <td>16.945000</td>\n",
       "      <td>20.100000</td>\n",
       "      <td>255150.000000</td>\n",
       "      <td>0.0</td>\n",
       "      <td>255150.000000</td>\n",
       "    </tr>\n",
       "    <tr>\n",
       "      <th>50%</th>\n",
       "      <td>5.927000</td>\n",
       "      <td>18.825000</td>\n",
       "      <td>20.200000</td>\n",
       "      <td>305550.000000</td>\n",
       "      <td>0.0</td>\n",
       "      <td>305550.000000</td>\n",
       "    </tr>\n",
       "    <tr>\n",
       "      <th>75%</th>\n",
       "      <td>6.222000</td>\n",
       "      <td>23.925000</td>\n",
       "      <td>20.200000</td>\n",
       "      <td>375375.000000</td>\n",
       "      <td>0.0</td>\n",
       "      <td>375375.000000</td>\n",
       "    </tr>\n",
       "    <tr>\n",
       "      <th>max</th>\n",
       "      <td>7.393000</td>\n",
       "      <td>37.970000</td>\n",
       "      <td>21.200000</td>\n",
       "      <td>577500.000000</td>\n",
       "      <td>0.0</td>\n",
       "      <td>577500.000000</td>\n",
       "    </tr>\n",
       "  </tbody>\n",
       "</table>\n",
       "</div>"
      ],
      "text/plain": [
       "               RM       LSTAT     PTRATIO           MEDV  label         prices\n",
       "count  170.000000  170.000000  170.000000     170.000000  170.0     170.000000\n",
       "mean     5.895129   20.843588   19.577059  311430.000000    0.0  311430.000000\n",
       "std      0.538569    5.295011    1.710498   91604.942149    0.0   91604.942149\n",
       "min      4.138000   14.590000   14.700000  105000.000000    0.0  105000.000000\n",
       "25%      5.607000   16.945000   20.100000  255150.000000    0.0  255150.000000\n",
       "50%      5.927000   18.825000   20.200000  305550.000000    0.0  305550.000000\n",
       "75%      6.222000   23.925000   20.200000  375375.000000    0.0  375375.000000\n",
       "max      7.393000   37.970000   21.200000  577500.000000    0.0  577500.000000"
      ]
     },
     "execution_count": 131,
     "metadata": {},
     "output_type": "execute_result"
    }
   ],
   "source": [
    "new_data.loc[new_data.label==0].describe()"
   ]
  },
  {
   "cell_type": "code",
   "execution_count": 133,
   "metadata": {},
   "outputs": [
    {
     "data": {
      "text/html": [
       "<div>\n",
       "<style scoped>\n",
       "    .dataframe tbody tr th:only-of-type {\n",
       "        vertical-align: middle;\n",
       "    }\n",
       "\n",
       "    .dataframe tbody tr th {\n",
       "        vertical-align: top;\n",
       "    }\n",
       "\n",
       "    .dataframe thead th {\n",
       "        text-align: right;\n",
       "    }\n",
       "</style>\n",
       "<table border=\"1\" class=\"dataframe\">\n",
       "  <thead>\n",
       "    <tr style=\"text-align: right;\">\n",
       "      <th></th>\n",
       "      <th>RM</th>\n",
       "      <th>LSTAT</th>\n",
       "      <th>PTRATIO</th>\n",
       "      <th>MEDV</th>\n",
       "      <th>label</th>\n",
       "      <th>prices</th>\n",
       "    </tr>\n",
       "  </thead>\n",
       "  <tbody>\n",
       "    <tr>\n",
       "      <th>count</th>\n",
       "      <td>319.000000</td>\n",
       "      <td>319.000000</td>\n",
       "      <td>319.000000</td>\n",
       "      <td>3.190000e+02</td>\n",
       "      <td>319.0</td>\n",
       "      <td>3.190000e+02</td>\n",
       "    </tr>\n",
       "    <tr>\n",
       "      <th>mean</th>\n",
       "      <td>6.424229</td>\n",
       "      <td>8.727492</td>\n",
       "      <td>17.951411</td>\n",
       "      <td>5.305034e+05</td>\n",
       "      <td>1.0</td>\n",
       "      <td>5.305034e+05</td>\n",
       "    </tr>\n",
       "    <tr>\n",
       "      <th>std</th>\n",
       "      <td>0.619661</td>\n",
       "      <td>3.297175</td>\n",
       "      <td>2.088977</td>\n",
       "      <td>1.440657e+05</td>\n",
       "      <td>0.0</td>\n",
       "      <td>1.440657e+05</td>\n",
       "    </tr>\n",
       "    <tr>\n",
       "      <th>min</th>\n",
       "      <td>3.561000</td>\n",
       "      <td>1.980000</td>\n",
       "      <td>12.600000</td>\n",
       "      <td>2.289000e+05</td>\n",
       "      <td>1.0</td>\n",
       "      <td>2.289000e+05</td>\n",
       "    </tr>\n",
       "    <tr>\n",
       "      <th>25%</th>\n",
       "      <td>6.022000</td>\n",
       "      <td>6.020000</td>\n",
       "      <td>16.600000</td>\n",
       "      <td>4.326000e+05</td>\n",
       "      <td>1.0</td>\n",
       "      <td>4.326000e+05</td>\n",
       "    </tr>\n",
       "    <tr>\n",
       "      <th>50%</th>\n",
       "      <td>6.345000</td>\n",
       "      <td>8.610000</td>\n",
       "      <td>18.300000</td>\n",
       "      <td>4.893000e+05</td>\n",
       "      <td>1.0</td>\n",
       "      <td>4.893000e+05</td>\n",
       "    </tr>\n",
       "    <tr>\n",
       "      <th>75%</th>\n",
       "      <td>6.760000</td>\n",
       "      <td>11.465000</td>\n",
       "      <td>19.600000</td>\n",
       "      <td>6.027000e+05</td>\n",
       "      <td>1.0</td>\n",
       "      <td>6.027000e+05</td>\n",
       "    </tr>\n",
       "    <tr>\n",
       "      <th>max</th>\n",
       "      <td>8.398000</td>\n",
       "      <td>15.120000</td>\n",
       "      <td>22.000000</td>\n",
       "      <td>1.024800e+06</td>\n",
       "      <td>1.0</td>\n",
       "      <td>1.024800e+06</td>\n",
       "    </tr>\n",
       "  </tbody>\n",
       "</table>\n",
       "</div>"
      ],
      "text/plain": [
       "               RM       LSTAT     PTRATIO          MEDV  label        prices\n",
       "count  319.000000  319.000000  319.000000  3.190000e+02  319.0  3.190000e+02\n",
       "mean     6.424229    8.727492   17.951411  5.305034e+05    1.0  5.305034e+05\n",
       "std      0.619661    3.297175    2.088977  1.440657e+05    0.0  1.440657e+05\n",
       "min      3.561000    1.980000   12.600000  2.289000e+05    1.0  2.289000e+05\n",
       "25%      6.022000    6.020000   16.600000  4.326000e+05    1.0  4.326000e+05\n",
       "50%      6.345000    8.610000   18.300000  4.893000e+05    1.0  4.893000e+05\n",
       "75%      6.760000   11.465000   19.600000  6.027000e+05    1.0  6.027000e+05\n",
       "max      8.398000   15.120000   22.000000  1.024800e+06    1.0  1.024800e+06"
      ]
     },
     "execution_count": 133,
     "metadata": {},
     "output_type": "execute_result"
    }
   ],
   "source": [
    "new_data.loc[new_data.label==1].describe()"
   ]
  },
  {
   "cell_type": "code",
   "execution_count": null,
   "metadata": {},
   "outputs": [],
   "source": []
  }
 ],
 "metadata": {
  "kernelspec": {
   "display_name": "Python 3",
   "language": "python",
   "name": "python3"
  },
  "language_info": {
   "codemirror_mode": {
    "name": "ipython",
    "version": 3
   },
   "file_extension": ".py",
   "mimetype": "text/x-python",
   "name": "python",
   "nbconvert_exporter": "python",
   "pygments_lexer": "ipython3",
   "version": "3.6.4"
  }
 },
 "nbformat": 4,
 "nbformat_minor": 2
}
